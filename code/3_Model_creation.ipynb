{
 "cells": [
  {
   "cell_type": "code",
   "execution_count": 2,
   "metadata": {},
   "outputs": [],
   "source": [
    "#Loading Libraries\n",
    "import pandas as pd\n",
    "from sklearn.ensemble import RandomForestClassifier"
   ]
  },
  {
   "cell_type": "code",
   "execution_count": 3,
   "metadata": {},
   "outputs": [
    {
     "data": {
      "text/html": [
       "<div>\n",
       "<style scoped>\n",
       "    .dataframe tbody tr th:only-of-type {\n",
       "        vertical-align: middle;\n",
       "    }\n",
       "\n",
       "    .dataframe tbody tr th {\n",
       "        vertical-align: top;\n",
       "    }\n",
       "\n",
       "    .dataframe thead th {\n",
       "        text-align: right;\n",
       "    }\n",
       "</style>\n",
       "<table border=\"1\" class=\"dataframe\">\n",
       "  <thead>\n",
       "    <tr style=\"text-align: right;\">\n",
       "      <th></th>\n",
       "      <th>step</th>\n",
       "      <th>amount</th>\n",
       "      <th>oldbalanceOrg</th>\n",
       "      <th>newbalanceOrig</th>\n",
       "      <th>oldbalanceDest</th>\n",
       "      <th>newbalanceDest</th>\n",
       "      <th>isFraud</th>\n",
       "      <th>isFlaggedFraud</th>\n",
       "      <th>PAYMENT</th>\n",
       "      <th>DEBIT</th>\n",
       "      <th>TRANSFER</th>\n",
       "      <th>CASH_OUT</th>\n",
       "      <th>CASH_IN</th>\n",
       "    </tr>\n",
       "  </thead>\n",
       "  <tbody>\n",
       "    <tr>\n",
       "      <th>3737323</th>\n",
       "      <td>278</td>\n",
       "      <td>330218.42</td>\n",
       "      <td>20866.00</td>\n",
       "      <td>351084.42</td>\n",
       "      <td>452419.57</td>\n",
       "      <td>122201.15</td>\n",
       "      <td>0</td>\n",
       "      <td>0</td>\n",
       "      <td>0</td>\n",
       "      <td>0</td>\n",
       "      <td>0</td>\n",
       "      <td>0</td>\n",
       "      <td>1</td>\n",
       "    </tr>\n",
       "    <tr>\n",
       "      <th>264914</th>\n",
       "      <td>15</td>\n",
       "      <td>11647.08</td>\n",
       "      <td>30370.00</td>\n",
       "      <td>18722.92</td>\n",
       "      <td>0.00</td>\n",
       "      <td>0.00</td>\n",
       "      <td>0</td>\n",
       "      <td>0</td>\n",
       "      <td>1</td>\n",
       "      <td>0</td>\n",
       "      <td>0</td>\n",
       "      <td>0</td>\n",
       "      <td>0</td>\n",
       "    </tr>\n",
       "    <tr>\n",
       "      <th>85647</th>\n",
       "      <td>10</td>\n",
       "      <td>152264.21</td>\n",
       "      <td>106589.00</td>\n",
       "      <td>258853.21</td>\n",
       "      <td>201303.01</td>\n",
       "      <td>49038.80</td>\n",
       "      <td>0</td>\n",
       "      <td>0</td>\n",
       "      <td>0</td>\n",
       "      <td>0</td>\n",
       "      <td>0</td>\n",
       "      <td>0</td>\n",
       "      <td>1</td>\n",
       "    </tr>\n",
       "    <tr>\n",
       "      <th>5899326</th>\n",
       "      <td>403</td>\n",
       "      <td>1551760.63</td>\n",
       "      <td>0.00</td>\n",
       "      <td>0.00</td>\n",
       "      <td>3198359.45</td>\n",
       "      <td>4750120.08</td>\n",
       "      <td>0</td>\n",
       "      <td>0</td>\n",
       "      <td>0</td>\n",
       "      <td>0</td>\n",
       "      <td>1</td>\n",
       "      <td>0</td>\n",
       "      <td>0</td>\n",
       "    </tr>\n",
       "    <tr>\n",
       "      <th>2544263</th>\n",
       "      <td>206</td>\n",
       "      <td>78172.30</td>\n",
       "      <td>2921331.58</td>\n",
       "      <td>2999503.88</td>\n",
       "      <td>415821.90</td>\n",
       "      <td>337649.60</td>\n",
       "      <td>0</td>\n",
       "      <td>0</td>\n",
       "      <td>0</td>\n",
       "      <td>0</td>\n",
       "      <td>0</td>\n",
       "      <td>0</td>\n",
       "      <td>1</td>\n",
       "    </tr>\n",
       "    <tr>\n",
       "      <th>...</th>\n",
       "      <td>...</td>\n",
       "      <td>...</td>\n",
       "      <td>...</td>\n",
       "      <td>...</td>\n",
       "      <td>...</td>\n",
       "      <td>...</td>\n",
       "      <td>...</td>\n",
       "      <td>...</td>\n",
       "      <td>...</td>\n",
       "      <td>...</td>\n",
       "      <td>...</td>\n",
       "      <td>...</td>\n",
       "      <td>...</td>\n",
       "    </tr>\n",
       "    <tr>\n",
       "      <th>4962742</th>\n",
       "      <td>351</td>\n",
       "      <td>128222.03</td>\n",
       "      <td>2082306.48</td>\n",
       "      <td>2210528.51</td>\n",
       "      <td>277346.60</td>\n",
       "      <td>149124.57</td>\n",
       "      <td>0</td>\n",
       "      <td>0</td>\n",
       "      <td>0</td>\n",
       "      <td>0</td>\n",
       "      <td>0</td>\n",
       "      <td>0</td>\n",
       "      <td>1</td>\n",
       "    </tr>\n",
       "    <tr>\n",
       "      <th>4001952</th>\n",
       "      <td>298</td>\n",
       "      <td>308520.08</td>\n",
       "      <td>10230.00</td>\n",
       "      <td>0.00</td>\n",
       "      <td>274313.82</td>\n",
       "      <td>582833.90</td>\n",
       "      <td>0</td>\n",
       "      <td>0</td>\n",
       "      <td>0</td>\n",
       "      <td>0</td>\n",
       "      <td>0</td>\n",
       "      <td>1</td>\n",
       "      <td>0</td>\n",
       "    </tr>\n",
       "    <tr>\n",
       "      <th>4462025</th>\n",
       "      <td>323</td>\n",
       "      <td>12955.60</td>\n",
       "      <td>150048.50</td>\n",
       "      <td>137092.90</td>\n",
       "      <td>0.00</td>\n",
       "      <td>0.00</td>\n",
       "      <td>0</td>\n",
       "      <td>0</td>\n",
       "      <td>1</td>\n",
       "      <td>0</td>\n",
       "      <td>0</td>\n",
       "      <td>0</td>\n",
       "      <td>0</td>\n",
       "    </tr>\n",
       "    <tr>\n",
       "      <th>1939819</th>\n",
       "      <td>177</td>\n",
       "      <td>119243.79</td>\n",
       "      <td>0.00</td>\n",
       "      <td>119243.79</td>\n",
       "      <td>350903.74</td>\n",
       "      <td>231659.95</td>\n",
       "      <td>0</td>\n",
       "      <td>0</td>\n",
       "      <td>0</td>\n",
       "      <td>0</td>\n",
       "      <td>0</td>\n",
       "      <td>0</td>\n",
       "      <td>1</td>\n",
       "    </tr>\n",
       "    <tr>\n",
       "      <th>5214076</th>\n",
       "      <td>370</td>\n",
       "      <td>58876.03</td>\n",
       "      <td>20494.00</td>\n",
       "      <td>79370.03</td>\n",
       "      <td>3006601.58</td>\n",
       "      <td>2947725.55</td>\n",
       "      <td>0</td>\n",
       "      <td>0</td>\n",
       "      <td>0</td>\n",
       "      <td>0</td>\n",
       "      <td>0</td>\n",
       "      <td>0</td>\n",
       "      <td>1</td>\n",
       "    </tr>\n",
       "  </tbody>\n",
       "</table>\n",
       "<p>30000 rows × 13 columns</p>\n",
       "</div>"
      ],
      "text/plain": [
       "         step      amount  oldbalanceOrg  newbalanceOrig  oldbalanceDest  \\\n",
       "3737323   278   330218.42       20866.00       351084.42       452419.57   \n",
       "264914     15    11647.08       30370.00        18722.92            0.00   \n",
       "85647      10   152264.21      106589.00       258853.21       201303.01   \n",
       "5899326   403  1551760.63           0.00            0.00      3198359.45   \n",
       "2544263   206    78172.30     2921331.58      2999503.88       415821.90   \n",
       "...       ...         ...            ...             ...             ...   \n",
       "4962742   351   128222.03     2082306.48      2210528.51       277346.60   \n",
       "4001952   298   308520.08       10230.00            0.00       274313.82   \n",
       "4462025   323    12955.60      150048.50       137092.90            0.00   \n",
       "1939819   177   119243.79           0.00       119243.79       350903.74   \n",
       "5214076   370    58876.03       20494.00        79370.03      3006601.58   \n",
       "\n",
       "         newbalanceDest  isFraud  isFlaggedFraud  PAYMENT  DEBIT  TRANSFER  \\\n",
       "3737323       122201.15        0               0        0      0         0   \n",
       "264914             0.00        0               0        1      0         0   \n",
       "85647          49038.80        0               0        0      0         0   \n",
       "5899326      4750120.08        0               0        0      0         1   \n",
       "2544263       337649.60        0               0        0      0         0   \n",
       "...                 ...      ...             ...      ...    ...       ...   \n",
       "4962742       149124.57        0               0        0      0         0   \n",
       "4001952       582833.90        0               0        0      0         0   \n",
       "4462025            0.00        0               0        1      0         0   \n",
       "1939819       231659.95        0               0        0      0         0   \n",
       "5214076      2947725.55        0               0        0      0         0   \n",
       "\n",
       "         CASH_OUT  CASH_IN  \n",
       "3737323         0        1  \n",
       "264914          0        0  \n",
       "85647           0        1  \n",
       "5899326         0        0  \n",
       "2544263         0        1  \n",
       "...           ...      ...  \n",
       "4962742         0        1  \n",
       "4001952         1        0  \n",
       "4462025         0        0  \n",
       "1939819         0        1  \n",
       "5214076         0        1  \n",
       "\n",
       "[30000 rows x 13 columns]"
      ]
     },
     "execution_count": 3,
     "metadata": {},
     "output_type": "execute_result"
    }
   ],
   "source": [
    "#Loading data set\n",
    "df = pd.read_csv('..\\Data\\processed_data.csv')\n",
    "df.sample(30000, random_state=42)"
   ]
  },
  {
   "cell_type": "code",
   "execution_count": 3,
   "metadata": {},
   "outputs": [],
   "source": [
    "#Select Target Data\n",
    "y = df['isFraud']\n",
    "\n",
    "#Loading the X Variables\n",
    "X = df.drop(['isFraud'], axis = 1)"
   ]
  },
  {
   "cell_type": "code",
   "execution_count": 4,
   "metadata": {},
   "outputs": [],
   "source": [
    "#Divide the data into Train and test\n",
    "from sklearn.model_selection import train_test_split\n",
    "X_train, X_test, y_train, y_test = train_test_split(X, y, test_size=0.20, random_state = 42)"
   ]
  },
  {
   "cell_type": "code",
   "execution_count": 5,
   "metadata": {},
   "outputs": [
    {
     "name": "stdout",
     "output_type": "stream",
     "text": [
      "X_train : (5090096, 12)\n",
      "y_train : (5090096,)\n",
      "X_test : (1272524, 12)\n",
      "y_test : (1272524,)\n"
     ]
    }
   ],
   "source": [
    "print(f'X_train : {X_train.shape}')\n",
    "print(f'y_train : {y_train.shape}')\n",
    "print(f'X_test : {X_test.shape}')\n",
    "print(f'y_test : {y_test.shape}')"
   ]
  },
  {
   "cell_type": "markdown",
   "metadata": {},
   "source": [
    "<H4>Building a Random Forest</H4>"
   ]
  },
  {
   "cell_type": "code",
   "execution_count": 6,
   "metadata": {},
   "outputs": [],
   "source": [
    "rf_Model = RandomForestClassifier()"
   ]
  },
  {
   "cell_type": "markdown",
   "metadata": {},
   "source": [
    "<p>Note |  It's important to note that this call won't inherently choose any parameters; </P>\n",
    "<p>instead, it will use default parameters or any hyperparameters you've explicitly set when creating the RandomForestClassifier Object</p>"
   ]
  },
  {
   "cell_type": "code",
   "execution_count": 7,
   "metadata": {},
   "outputs": [],
   "source": [
    "#Fitting the model\n",
    "rf_Model.fit(X_train,y_train)\n",
    "from pprint import pprint"
   ]
  },
  {
   "cell_type": "code",
   "execution_count": 8,
   "metadata": {},
   "outputs": [
    {
     "name": "stdout",
     "output_type": "stream",
     "text": [
      "Parameters currently in use:\n",
      "\n",
      "{'bootstrap': True,\n",
      " 'ccp_alpha': 0.0,\n",
      " 'class_weight': None,\n",
      " 'criterion': 'gini',\n",
      " 'max_depth': None,\n",
      " 'max_features': 'sqrt',\n",
      " 'max_leaf_nodes': None,\n",
      " 'max_samples': None,\n",
      " 'min_impurity_decrease': 0.0,\n",
      " 'min_samples_leaf': 1,\n",
      " 'min_samples_split': 2,\n",
      " 'min_weight_fraction_leaf': 0.0,\n",
      " 'n_estimators': 100,\n",
      " 'n_jobs': None,\n",
      " 'oob_score': False,\n",
      " 'random_state': None,\n",
      " 'verbose': 0,\n",
      " 'warm_start': False}\n"
     ]
    }
   ],
   "source": [
    "print('Parameters currently in use:\\n')\n",
    "pprint(rf_Model.get_params())"
   ]
  },
  {
   "cell_type": "markdown",
   "metadata": {},
   "source": [
    "<H4>Checking for accuracy</H4>"
   ]
  },
  {
   "cell_type": "code",
   "execution_count": 9,
   "metadata": {},
   "outputs": [
    {
     "name": "stdout",
     "output_type": "stream",
     "text": [
      "Train Accuracy = 1.000\n",
      "Test Accuracy = 1.000\n"
     ]
    }
   ],
   "source": [
    "print(f'Train Accuracy = {rf_Model.score(X_train,y_train):.3f}')\n",
    "print(f'Test Accuracy = {rf_Model.score(X_test,y_test):.3f}')"
   ]
  },
  {
   "cell_type": "code",
   "execution_count": 10,
   "metadata": {},
   "outputs": [
    {
     "name": "stdout",
     "output_type": "stream",
     "text": [
      "F1 Score: 0.8791283622744297\n"
     ]
    }
   ],
   "source": [
    "from sklearn.metrics import f1_score\n",
    "y_pred = rf_Model.predict(X_test)\n",
    "f1 = f1_score(y_test, y_pred)\n",
    "print(\"F1 Score:\", f1)"
   ]
  },
  {
   "cell_type": "markdown",
   "metadata": {},
   "source": [
    "<H6>Achieving 100% accuracy on both training and test sets it's a sign of overfitting, especially if the dataset is not too complex. \n",
    "\n",
    "Overfitting occurs when a model learns to capture noise in the training data rather than true underlying patterns. In such cases, the model might perform poorly on truly unseen data.\n",
    "\n",
    "Therefore we need to evaluate its performance on a separate validation set or by using other techniques.\n",
    "\n",
    "if the test accuracy is reasonably high and close to the train accuracy, it suggests that the model is performing well and generalizing effectively. But 100% in this case means overfiitting and it will perform poorly on truly unseen data"
   ]
  },
  {
   "cell_type": "code",
   "execution_count": 11,
   "metadata": {},
   "outputs": [
    {
     "name": "stdout",
     "output_type": "stream",
     "text": [
      "{'bootstrap': [True, False],\n",
      " 'max_depth': [10, 20, 30, 40, 50, 60, 70, 80, 90, 100, 110, None],\n",
      " 'max_features': ['auto', 'sqrt'],\n",
      " 'min_samples_leaf': [1, 2, 4],\n",
      " 'min_samples_split': [2, 5, 10],\n",
      " 'n_estimators': [200, 400, 600, 800, 1000, 1200, 1400, 1600, 1800, 2000]}\n"
     ]
    }
   ],
   "source": [
    "import numpy as np\n",
    "from sklearn.model_selection import RandomizedSearchCV\n",
    "# Number of trees in random forest\n",
    "n_estimators = [int(x) for x in np.linspace(start = 200, stop = 2000, num = 10)]\n",
    "# Number of features to consider at every split\n",
    "max_features = ['auto', 'sqrt']\n",
    "# Maximum number of levels in tree\n",
    "max_depth = [int(x) for x in np.linspace(10, 110, num = 11)]\n",
    "max_depth.append(None)\n",
    "# Minimum number of samples required to split a node\n",
    "min_samples_split = [2, 5, 10]\n",
    "# Minimum number of samples required at each leaf node\n",
    "min_samples_leaf = [1, 2, 4]\n",
    "# Method of selecting samples for training each tree\n",
    "bootstrap = [True, False]\n",
    "# Create the random grid\n",
    "random_grid = {'n_estimators': n_estimators,\n",
    "               'max_features': max_features,\n",
    "               'max_depth': max_depth,\n",
    "               'min_samples_split': min_samples_split,\n",
    "               'min_samples_leaf': min_samples_leaf,\n",
    "               'bootstrap': bootstrap}\n",
    "pprint(random_grid)"
   ]
  },
  {
   "cell_type": "code",
   "execution_count": 12,
   "metadata": {},
   "outputs": [
    {
     "name": "stdout",
     "output_type": "stream",
     "text": [
      "Fitting 3 folds for each of 100 candidates, totalling 300 fits\n"
     ]
    }
   ],
   "source": [
    "# Use the random grid to search for best hyperparameters\n",
    "\n",
    "# Random search of parameters, using 3 fold cross validation, \n",
    "# search across 100 different combinations, and use all available cores\n",
    "rf_random = RandomizedSearchCV(estimator = rf_Model, param_distributions = random_grid, n_iter = 100, cv = 3, verbose=2, random_state=42, n_jobs = -1)\n",
    "# Fit the random search model\n",
    "rf_random.fit(X_train,y_train)"
   ]
  },
  {
   "cell_type": "code",
   "execution_count": null,
   "metadata": {},
   "outputs": [],
   "source": [
    "rf_random.best_params_"
   ]
  },
  {
   "cell_type": "code",
   "execution_count": null,
   "metadata": {},
   "outputs": [],
   "source": [
    "print(f'Train Accuracy = {rf_random.score(X_train,y_train):.3f}')\n",
    "print(f'Test Accuracy = {rf_random.score(X_test,y_test):.3f}')"
   ]
  },
  {
   "cell_type": "code",
   "execution_count": null,
   "metadata": {},
   "outputs": [],
   "source": [
    "from sklearn.metrics import f1_score\n",
    "y_pred = rf_random.predict(X_test)\n",
    "f1 = f1_score(y_test, y_pred)\n",
    "print(\"F1 Score:\", f1)"
   ]
  }
 ],
 "metadata": {
  "kernelspec": {
   "display_name": "Python 3",
   "language": "python",
   "name": "python3"
  },
  "language_info": {
   "codemirror_mode": {
    "name": "ipython",
    "version": 3
   },
   "file_extension": ".py",
   "mimetype": "text/x-python",
   "name": "python",
   "nbconvert_exporter": "python",
   "pygments_lexer": "ipython3",
   "version": "3.11.1"
  }
 },
 "nbformat": 4,
 "nbformat_minor": 2
}
